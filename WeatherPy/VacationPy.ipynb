{
 "cells": [
  {
   "cell_type": "code",
   "execution_count": 22,
   "metadata": {},
   "outputs": [],
   "source": [
    " # Dependencies and Setup\n",
    "import matplotlib.pyplot as plt\n",
    "import pandas as pd\n",
    "import numpy as np\n",
    "import requests\n",
    "import gmaps\n",
    "import os\n",
    "\n",
    "# Import API key\n",
    "from config import g_key"
   ]
  },
  {
   "cell_type": "code",
   "execution_count": 23,
   "metadata": {},
   "outputs": [
    {
     "data": {
      "text/html": [
       "<div>\n",
       "<style scoped>\n",
       "    .dataframe tbody tr th:only-of-type {\n",
       "        vertical-align: middle;\n",
       "    }\n",
       "\n",
       "    .dataframe tbody tr th {\n",
       "        vertical-align: top;\n",
       "    }\n",
       "\n",
       "    .dataframe thead th {\n",
       "        text-align: right;\n",
       "    }\n",
       "</style>\n",
       "<table border=\"1\" class=\"dataframe\">\n",
       "  <thead>\n",
       "    <tr style=\"text-align: right;\">\n",
       "      <th></th>\n",
       "      <th>City</th>\n",
       "      <th>Cloudiness</th>\n",
       "      <th>Country</th>\n",
       "      <th>Date</th>\n",
       "      <th>Humidity</th>\n",
       "      <th>Lat</th>\n",
       "      <th>Lng</th>\n",
       "      <th>Max Temp</th>\n",
       "      <th>Wind Speed</th>\n",
       "    </tr>\n",
       "  </thead>\n",
       "  <tbody>\n",
       "    <tr>\n",
       "      <td>1</td>\n",
       "      <td>kapaa</td>\n",
       "      <td>40.0</td>\n",
       "      <td>US</td>\n",
       "      <td>1.584116e+09</td>\n",
       "      <td>88.0</td>\n",
       "      <td>22.08</td>\n",
       "      <td>-159.32</td>\n",
       "      <td>71.60</td>\n",
       "      <td>6.93</td>\n",
       "    </tr>\n",
       "    <tr>\n",
       "      <td>4</td>\n",
       "      <td>lata</td>\n",
       "      <td>20.0</td>\n",
       "      <td>PT</td>\n",
       "      <td>1.584116e+09</td>\n",
       "      <td>67.0</td>\n",
       "      <td>40.16</td>\n",
       "      <td>-8.33</td>\n",
       "      <td>66.00</td>\n",
       "      <td>14.99</td>\n",
       "    </tr>\n",
       "    <tr>\n",
       "      <td>5</td>\n",
       "      <td>bundibugyo</td>\n",
       "      <td>100.0</td>\n",
       "      <td>UG</td>\n",
       "      <td>1.584116e+09</td>\n",
       "      <td>88.0</td>\n",
       "      <td>0.74</td>\n",
       "      <td>30.04</td>\n",
       "      <td>58.37</td>\n",
       "      <td>1.16</td>\n",
       "    </tr>\n",
       "    <tr>\n",
       "      <td>6</td>\n",
       "      <td>marawi</td>\n",
       "      <td>76.0</td>\n",
       "      <td>PH</td>\n",
       "      <td>1.584116e+09</td>\n",
       "      <td>87.0</td>\n",
       "      <td>8.00</td>\n",
       "      <td>124.29</td>\n",
       "      <td>75.99</td>\n",
       "      <td>4.00</td>\n",
       "    </tr>\n",
       "    <tr>\n",
       "      <td>7</td>\n",
       "      <td>jamestown</td>\n",
       "      <td>90.0</td>\n",
       "      <td>US</td>\n",
       "      <td>1.584116e+09</td>\n",
       "      <td>60.0</td>\n",
       "      <td>42.10</td>\n",
       "      <td>-79.24</td>\n",
       "      <td>42.80</td>\n",
       "      <td>20.80</td>\n",
       "    </tr>\n",
       "  </tbody>\n",
       "</table>\n",
       "</div>"
      ],
      "text/plain": [
       "         City  Cloudiness Country          Date  Humidity    Lat     Lng  \\\n",
       "1       kapaa        40.0      US  1.584116e+09      88.0  22.08 -159.32   \n",
       "4        lata        20.0      PT  1.584116e+09      67.0  40.16   -8.33   \n",
       "5  bundibugyo       100.0      UG  1.584116e+09      88.0   0.74   30.04   \n",
       "6      marawi        76.0      PH  1.584116e+09      87.0   8.00  124.29   \n",
       "7   jamestown        90.0      US  1.584116e+09      60.0  42.10  -79.24   \n",
       "\n",
       "   Max Temp  Wind Speed  \n",
       "1     71.60        6.93  \n",
       "4     66.00       14.99  \n",
       "5     58.37        1.16  \n",
       "6     75.99        4.00  \n",
       "7     42.80       20.80  "
      ]
     },
     "execution_count": 23,
     "metadata": {},
     "output_type": "execute_result"
    }
   ],
   "source": [
    "# Import cities csv created in WeatherPy\n",
    "\n",
    "cities_df = pd.read_csv('../WeatherPy/cities.csv', index_col=0)\n",
    "\n",
    "cities_df.head()"
   ]
  },
  {
   "cell_type": "code",
   "execution_count": 28,
   "metadata": {},
   "outputs": [
    {
     "data": {
      "application/vnd.jupyter.widget-view+json": {
       "model_id": "1744916a50564c0896f3e67c29f97bb4",
       "version_major": 2,
       "version_minor": 0
      },
      "text/plain": [
       "Figure(layout=FigureLayout(height='420px'))"
      ]
     },
     "metadata": {},
     "output_type": "display_data"
    }
   ],
   "source": [
    "# Access maps with unique API key\n",
    "gmaps.configure(api_key=g_key)\n",
    "\n",
    "# Store latitude and longitude in locations\n",
    "locations = cities_df[[\"Lat\", \"Lng\"]]\n",
    "\n",
    "# Plot Heatmap\n",
    "fig = gmaps.figure()\n",
    "\n",
    "# Create heat layer\n",
    "heat_layer = gmaps.heatmap_layer(locations, weights=cities_df['Humidity'], \n",
    "                                 dissipating=False, max_intensity=100,\n",
    "                                 point_radius=1)\n",
    "\n",
    "# Add layer\n",
    "fig.add_layer(heat_layer)\n",
    "\n",
    "# Display figure\n",
    "fig"
   ]
  },
  {
   "cell_type": "code",
   "execution_count": null,
   "metadata": {},
   "outputs": [],
   "source": []
  }
 ],
 "metadata": {
  "kernelspec": {
   "display_name": "Python 3",
   "language": "python",
   "name": "python3"
  },
  "language_info": {
   "codemirror_mode": {
    "name": "ipython",
    "version": 3
   },
   "file_extension": ".py",
   "mimetype": "text/x-python",
   "name": "python",
   "nbconvert_exporter": "python",
   "pygments_lexer": "ipython3",
   "version": "3.7.4"
  }
 },
 "nbformat": 4,
 "nbformat_minor": 2
}
